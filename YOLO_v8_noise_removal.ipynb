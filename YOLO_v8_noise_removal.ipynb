{
  "nbformat": 4,
  "nbformat_minor": 0,
  "metadata": {
    "colab": {
      "provenance": [],
      "gpuType": "T4",
      "authorship_tag": "ABX9TyNJSBlDPaVJzIvN83ycFzwn",
      "include_colab_link": true
    },
    "kernelspec": {
      "name": "python3",
      "display_name": "Python 3"
    },
    "language_info": {
      "name": "python"
    },
    "accelerator": "GPU"
  },
  "cells": [
    {
      "cell_type": "markdown",
      "metadata": {
        "id": "view-in-github",
        "colab_type": "text"
      },
      "source": [
        "<a href=\"https://colab.research.google.com/github/K-julius/dl_project/blob/main/YOLO_v8_noise_removal.ipynb\" target=\"_parent\"><img src=\"https://colab.research.google.com/assets/colab-badge.svg\" alt=\"Open In Colab\"/></a>"
      ]
    },
    {
      "cell_type": "markdown",
      "source": [
        "T4 GPU"
      ],
      "metadata": {
        "id": "96UZ1UBcXo-l"
      }
    },
    {
      "cell_type": "code",
      "execution_count": null,
      "metadata": {
        "id": "yb7N6A3YEzy8"
      },
      "outputs": [],
      "source": [
        "!pip install ultralytics"
      ]
    },
    {
      "cell_type": "code",
      "source": [
        "from google.colab import drive\n",
        "drive.mount('/content/drive')"
      ],
      "metadata": {
        "id": "to5VxTb5E9uf",
        "colab": {
          "base_uri": "https://localhost:8080/"
        },
        "outputId": "4c2806c8-e1a7-4bf1-d008-5af7123646a0"
      },
      "execution_count": 9,
      "outputs": [
        {
          "output_type": "stream",
          "name": "stdout",
          "text": [
            "Drive already mounted at /content/drive; to attempt to forcibly remount, call drive.mount(\"/content/drive\", force_remount=True).\n"
          ]
        }
      ]
    },
    {
      "cell_type": "code",
      "source": [
        "import os\n",
        "import cv2\n",
        "import pandas as pd\n",
        "import seaborn as sns\n",
        "import matplotlib.pyplot as plt\n",
        "from sklearn.metrics import confusion_matrix, precision_score, recall_score, f1_score, accuracy_score\n",
        "import numpy as np\n",
        "\n",
        "import ultralytics\n",
        "ultralytics.checks()"
      ],
      "metadata": {
        "colab": {
          "base_uri": "https://localhost:8080/"
        },
        "id": "UKbe0_XlWrG4",
        "outputId": "410f0c23-a328-4abb-ec2c-c40ad23c4f22"
      },
      "execution_count": 10,
      "outputs": [
        {
          "output_type": "stream",
          "name": "stdout",
          "text": [
            "Ultralytics YOLOv8.0.222 🚀 Python-3.10.12 torch-2.1.0+cu118 CUDA:0 (Tesla T4, 15102MiB)\n",
            "Setup complete ✅ (2 CPUs, 12.7 GB RAM, 27.0/166.8 GB disk)\n"
          ]
        }
      ]
    },
    {
      "cell_type": "code",
      "source": [
        "from ultralytics import YOLO\n",
        "from IPython.display import display, Image"
      ],
      "metadata": {
        "id": "k9jEVWUaWslQ"
      },
      "execution_count": 11,
      "outputs": []
    },
    {
      "cell_type": "code",
      "source": [
        "model_noise_r = YOLO(\"yolov8n-cls.pt\")\n",
        "\n",
        "print(type(model_noise_r.names), len(model_noise_r.names))\n",
        "print(model_noise_r.names)"
      ],
      "metadata": {
        "colab": {
          "base_uri": "https://localhost:8080/"
        },
        "id": "QkmLSVMTWt_u",
        "outputId": "ae3d57cc-3d26-41a0-efd3-ae53c1546011"
      },
      "execution_count": 12,
      "outputs": [
        {
          "output_type": "stream",
          "name": "stdout",
          "text": [
            "<class 'dict'> 1000\n",
            "{0: 'n01440764', 1: 'n01443537', 2: 'n01484850', 3: 'n01491361', 4: 'n01494475', 5: 'n01496331', 6: 'n01498041', 7: 'n01514668', 8: 'n01514859', 9: 'n01518878', 10: 'n01530575', 11: 'n01531178', 12: 'n01532829', 13: 'n01534433', 14: 'n01537544', 15: 'n01558993', 16: 'n01560419', 17: 'n01580077', 18: 'n01582220', 19: 'n01592084', 20: 'n01601694', 21: 'n01608432', 22: 'n01614925', 23: 'n01616318', 24: 'n01622779', 25: 'n01629819', 26: 'n01630670', 27: 'n01631663', 28: 'n01632458', 29: 'n01632777', 30: 'n01641577', 31: 'n01644373', 32: 'n01644900', 33: 'n01664065', 34: 'n01665541', 35: 'n01667114', 36: 'n01667778', 37: 'n01669191', 38: 'n01675722', 39: 'n01677366', 40: 'n01682714', 41: 'n01685808', 42: 'n01687978', 43: 'n01688243', 44: 'n01689811', 45: 'n01692333', 46: 'n01693334', 47: 'n01694178', 48: 'n01695060', 49: 'n01697457', 50: 'n01698640', 51: 'n01704323', 52: 'n01728572', 53: 'n01728920', 54: 'n01729322', 55: 'n01729977', 56: 'n01734418', 57: 'n01735189', 58: 'n01737021', 59: 'n01739381', 60: 'n01740131', 61: 'n01742172', 62: 'n01744401', 63: 'n01748264', 64: 'n01749939', 65: 'n01751748', 66: 'n01753488', 67: 'n01755581', 68: 'n01756291', 69: 'n01768244', 70: 'n01770081', 71: 'n01770393', 72: 'n01773157', 73: 'n01773549', 74: 'n01773797', 75: 'n01774384', 76: 'n01774750', 77: 'n01775062', 78: 'n01776313', 79: 'n01784675', 80: 'n01795545', 81: 'n01796340', 82: 'n01797886', 83: 'n01798484', 84: 'n01806143', 85: 'n01806567', 86: 'n01807496', 87: 'n01817953', 88: 'n01818515', 89: 'n01819313', 90: 'n01820546', 91: 'n01824575', 92: 'n01828970', 93: 'n01829413', 94: 'n01833805', 95: 'n01843065', 96: 'n01843383', 97: 'n01847000', 98: 'n01855032', 99: 'n01855672', 100: 'n01860187', 101: 'n01871265', 102: 'n01872401', 103: 'n01873310', 104: 'n01877812', 105: 'n01882714', 106: 'n01883070', 107: 'n01910747', 108: 'n01914609', 109: 'n01917289', 110: 'n01924916', 111: 'n01930112', 112: 'n01943899', 113: 'n01944390', 114: 'n01945685', 115: 'n01950731', 116: 'n01955084', 117: 'n01968897', 118: 'n01978287', 119: 'n01978455', 120: 'n01980166', 121: 'n01981276', 122: 'n01983481', 123: 'n01984695', 124: 'n01985128', 125: 'n01986214', 126: 'n01990800', 127: 'n02002556', 128: 'n02002724', 129: 'n02006656', 130: 'n02007558', 131: 'n02009229', 132: 'n02009912', 133: 'n02011460', 134: 'n02012849', 135: 'n02013706', 136: 'n02017213', 137: 'n02018207', 138: 'n02018795', 139: 'n02025239', 140: 'n02027492', 141: 'n02028035', 142: 'n02033041', 143: 'n02037110', 144: 'n02051845', 145: 'n02056570', 146: 'n02058221', 147: 'n02066245', 148: 'n02071294', 149: 'n02074367', 150: 'n02077923', 151: 'n02085620', 152: 'n02085782', 153: 'n02085936', 154: 'n02086079', 155: 'n02086240', 156: 'n02086646', 157: 'n02086910', 158: 'n02087046', 159: 'n02087394', 160: 'n02088094', 161: 'n02088238', 162: 'n02088364', 163: 'n02088466', 164: 'n02088632', 165: 'n02089078', 166: 'n02089867', 167: 'n02089973', 168: 'n02090379', 169: 'n02090622', 170: 'n02090721', 171: 'n02091032', 172: 'n02091134', 173: 'n02091244', 174: 'n02091467', 175: 'n02091635', 176: 'n02091831', 177: 'n02092002', 178: 'n02092339', 179: 'n02093256', 180: 'n02093428', 181: 'n02093647', 182: 'n02093754', 183: 'n02093859', 184: 'n02093991', 185: 'n02094114', 186: 'n02094258', 187: 'n02094433', 188: 'n02095314', 189: 'n02095570', 190: 'n02095889', 191: 'n02096051', 192: 'n02096177', 193: 'n02096294', 194: 'n02096437', 195: 'n02096585', 196: 'n02097047', 197: 'n02097130', 198: 'n02097209', 199: 'n02097298', 200: 'n02097474', 201: 'n02097658', 202: 'n02098105', 203: 'n02098286', 204: 'n02098413', 205: 'n02099267', 206: 'n02099429', 207: 'n02099601', 208: 'n02099712', 209: 'n02099849', 210: 'n02100236', 211: 'n02100583', 212: 'n02100735', 213: 'n02100877', 214: 'n02101006', 215: 'n02101388', 216: 'n02101556', 217: 'n02102040', 218: 'n02102177', 219: 'n02102318', 220: 'n02102480', 221: 'n02102973', 222: 'n02104029', 223: 'n02104365', 224: 'n02105056', 225: 'n02105162', 226: 'n02105251', 227: 'n02105412', 228: 'n02105505', 229: 'n02105641', 230: 'n02105855', 231: 'n02106030', 232: 'n02106166', 233: 'n02106382', 234: 'n02106550', 235: 'n02106662', 236: 'n02107142', 237: 'n02107312', 238: 'n02107574', 239: 'n02107683', 240: 'n02107908', 241: 'n02108000', 242: 'n02108089', 243: 'n02108422', 244: 'n02108551', 245: 'n02108915', 246: 'n02109047', 247: 'n02109525', 248: 'n02109961', 249: 'n02110063', 250: 'n02110185', 251: 'n02110341', 252: 'n02110627', 253: 'n02110806', 254: 'n02110958', 255: 'n02111129', 256: 'n02111277', 257: 'n02111500', 258: 'n02111889', 259: 'n02112018', 260: 'n02112137', 261: 'n02112350', 262: 'n02112706', 263: 'n02113023', 264: 'n02113186', 265: 'n02113624', 266: 'n02113712', 267: 'n02113799', 268: 'n02113978', 269: 'n02114367', 270: 'n02114548', 271: 'n02114712', 272: 'n02114855', 273: 'n02115641', 274: 'n02115913', 275: 'n02116738', 276: 'n02117135', 277: 'n02119022', 278: 'n02119789', 279: 'n02120079', 280: 'n02120505', 281: 'n02123045', 282: 'n02123159', 283: 'n02123394', 284: 'n02123597', 285: 'n02124075', 286: 'n02125311', 287: 'n02127052', 288: 'n02128385', 289: 'n02128757', 290: 'n02128925', 291: 'n02129165', 292: 'n02129604', 293: 'n02130308', 294: 'n02132136', 295: 'n02133161', 296: 'n02134084', 297: 'n02134418', 298: 'n02137549', 299: 'n02138441', 300: 'n02165105', 301: 'n02165456', 302: 'n02167151', 303: 'n02168699', 304: 'n02169497', 305: 'n02172182', 306: 'n02174001', 307: 'n02177972', 308: 'n02190166', 309: 'n02206856', 310: 'n02219486', 311: 'n02226429', 312: 'n02229544', 313: 'n02231487', 314: 'n02233338', 315: 'n02236044', 316: 'n02256656', 317: 'n02259212', 318: 'n02264363', 319: 'n02268443', 320: 'n02268853', 321: 'n02276258', 322: 'n02277742', 323: 'n02279972', 324: 'n02280649', 325: 'n02281406', 326: 'n02281787', 327: 'n02317335', 328: 'n02319095', 329: 'n02321529', 330: 'n02325366', 331: 'n02326432', 332: 'n02328150', 333: 'n02342885', 334: 'n02346627', 335: 'n02356798', 336: 'n02361337', 337: 'n02363005', 338: 'n02364673', 339: 'n02389026', 340: 'n02391049', 341: 'n02395406', 342: 'n02396427', 343: 'n02397096', 344: 'n02398521', 345: 'n02403003', 346: 'n02408429', 347: 'n02410509', 348: 'n02412080', 349: 'n02415577', 350: 'n02417914', 351: 'n02422106', 352: 'n02422699', 353: 'n02423022', 354: 'n02437312', 355: 'n02437616', 356: 'n02441942', 357: 'n02442845', 358: 'n02443114', 359: 'n02443484', 360: 'n02444819', 361: 'n02445715', 362: 'n02447366', 363: 'n02454379', 364: 'n02457408', 365: 'n02480495', 366: 'n02480855', 367: 'n02481823', 368: 'n02483362', 369: 'n02483708', 370: 'n02484975', 371: 'n02486261', 372: 'n02486410', 373: 'n02487347', 374: 'n02488291', 375: 'n02488702', 376: 'n02489166', 377: 'n02490219', 378: 'n02492035', 379: 'n02492660', 380: 'n02493509', 381: 'n02493793', 382: 'n02494079', 383: 'n02497673', 384: 'n02500267', 385: 'n02504013', 386: 'n02504458', 387: 'n02509815', 388: 'n02510455', 389: 'n02514041', 390: 'n02526121', 391: 'n02536864', 392: 'n02606052', 393: 'n02607072', 394: 'n02640242', 395: 'n02641379', 396: 'n02643566', 397: 'n02655020', 398: 'n02666196', 399: 'n02667093', 400: 'n02669723', 401: 'n02672831', 402: 'n02676566', 403: 'n02687172', 404: 'n02690373', 405: 'n02692877', 406: 'n02699494', 407: 'n02701002', 408: 'n02704792', 409: 'n02708093', 410: 'n02727426', 411: 'n02730930', 412: 'n02747177', 413: 'n02749479', 414: 'n02769748', 415: 'n02776631', 416: 'n02777292', 417: 'n02782093', 418: 'n02783161', 419: 'n02786058', 420: 'n02787622', 421: 'n02788148', 422: 'n02790996', 423: 'n02791124', 424: 'n02791270', 425: 'n02793495', 426: 'n02794156', 427: 'n02795169', 428: 'n02797295', 429: 'n02799071', 430: 'n02802426', 431: 'n02804414', 432: 'n02804610', 433: 'n02807133', 434: 'n02808304', 435: 'n02808440', 436: 'n02814533', 437: 'n02814860', 438: 'n02815834', 439: 'n02817516', 440: 'n02823428', 441: 'n02823750', 442: 'n02825657', 443: 'n02834397', 444: 'n02835271', 445: 'n02837789', 446: 'n02840245', 447: 'n02841315', 448: 'n02843684', 449: 'n02859443', 450: 'n02860847', 451: 'n02865351', 452: 'n02869837', 453: 'n02870880', 454: 'n02871525', 455: 'n02877765', 456: 'n02879718', 457: 'n02883205', 458: 'n02892201', 459: 'n02892767', 460: 'n02894605', 461: 'n02895154', 462: 'n02906734', 463: 'n02909870', 464: 'n02910353', 465: 'n02916936', 466: 'n02917067', 467: 'n02927161', 468: 'n02930766', 469: 'n02939185', 470: 'n02948072', 471: 'n02950826', 472: 'n02951358', 473: 'n02951585', 474: 'n02963159', 475: 'n02965783', 476: 'n02966193', 477: 'n02966687', 478: 'n02971356', 479: 'n02974003', 480: 'n02977058', 481: 'n02978881', 482: 'n02979186', 483: 'n02980441', 484: 'n02981792', 485: 'n02988304', 486: 'n02992211', 487: 'n02992529', 488: 'n02999410', 489: 'n03000134', 490: 'n03000247', 491: 'n03000684', 492: 'n03014705', 493: 'n03016953', 494: 'n03017168', 495: 'n03018349', 496: 'n03026506', 497: 'n03028079', 498: 'n03032252', 499: 'n03041632', 500: 'n03042490', 501: 'n03045698', 502: 'n03047690', 503: 'n03062245', 504: 'n03063599', 505: 'n03063689', 506: 'n03065424', 507: 'n03075370', 508: 'n03085013', 509: 'n03089624', 510: 'n03095699', 511: 'n03100240', 512: 'n03109150', 513: 'n03110669', 514: 'n03124043', 515: 'n03124170', 516: 'n03125729', 517: 'n03126707', 518: 'n03127747', 519: 'n03127925', 520: 'n03131574', 521: 'n03133878', 522: 'n03134739', 523: 'n03141823', 524: 'n03146219', 525: 'n03160309', 526: 'n03179701', 527: 'n03180011', 528: 'n03187595', 529: 'n03188531', 530: 'n03196217', 531: 'n03197337', 532: 'n03201208', 533: 'n03207743', 534: 'n03207941', 535: 'n03208938', 536: 'n03216828', 537: 'n03218198', 538: 'n03220513', 539: 'n03223299', 540: 'n03240683', 541: 'n03249569', 542: 'n03250847', 543: 'n03255030', 544: 'n03259280', 545: 'n03271574', 546: 'n03272010', 547: 'n03272562', 548: 'n03290653', 549: 'n03291819', 550: 'n03297495', 551: 'n03314780', 552: 'n03325584', 553: 'n03337140', 554: 'n03344393', 555: 'n03345487', 556: 'n03347037', 557: 'n03355925', 558: 'n03372029', 559: 'n03376595', 560: 'n03379051', 561: 'n03384352', 562: 'n03388043', 563: 'n03388183', 564: 'n03388549', 565: 'n03393912', 566: 'n03394916', 567: 'n03400231', 568: 'n03404251', 569: 'n03417042', 570: 'n03424325', 571: 'n03425413', 572: 'n03443371', 573: 'n03444034', 574: 'n03445777', 575: 'n03445924', 576: 'n03447447', 577: 'n03447721', 578: 'n03450230', 579: 'n03452741', 580: 'n03457902', 581: 'n03459775', 582: 'n03461385', 583: 'n03467068', 584: 'n03476684', 585: 'n03476991', 586: 'n03478589', 587: 'n03481172', 588: 'n03482405', 589: 'n03483316', 590: 'n03485407', 591: 'n03485794', 592: 'n03492542', 593: 'n03494278', 594: 'n03495258', 595: 'n03496892', 596: 'n03498962', 597: 'n03527444', 598: 'n03529860', 599: 'n03530642', 600: 'n03532672', 601: 'n03534580', 602: 'n03535780', 603: 'n03538406', 604: 'n03544143', 605: 'n03584254', 606: 'n03584829', 607: 'n03590841', 608: 'n03594734', 609: 'n03594945', 610: 'n03595614', 611: 'n03598930', 612: 'n03599486', 613: 'n03602883', 614: 'n03617480', 615: 'n03623198', 616: 'n03627232', 617: 'n03630383', 618: 'n03633091', 619: 'n03637318', 620: 'n03642806', 621: 'n03649909', 622: 'n03657121', 623: 'n03658185', 624: 'n03661043', 625: 'n03662601', 626: 'n03666591', 627: 'n03670208', 628: 'n03673027', 629: 'n03676483', 630: 'n03680355', 631: 'n03690938', 632: 'n03691459', 633: 'n03692522', 634: 'n03697007', 635: 'n03706229', 636: 'n03709823', 637: 'n03710193', 638: 'n03710637', 639: 'n03710721', 640: 'n03717622', 641: 'n03720891', 642: 'n03721384', 643: 'n03724870', 644: 'n03729826', 645: 'n03733131', 646: 'n03733281', 647: 'n03733805', 648: 'n03742115', 649: 'n03743016', 650: 'n03759954', 651: 'n03761084', 652: 'n03763968', 653: 'n03764736', 654: 'n03769881', 655: 'n03770439', 656: 'n03770679', 657: 'n03773504', 658: 'n03775071', 659: 'n03775546', 660: 'n03776460', 661: 'n03777568', 662: 'n03777754', 663: 'n03781244', 664: 'n03782006', 665: 'n03785016', 666: 'n03786901', 667: 'n03787032', 668: 'n03788195', 669: 'n03788365', 670: 'n03791053', 671: 'n03792782', 672: 'n03792972', 673: 'n03793489', 674: 'n03794056', 675: 'n03796401', 676: 'n03803284', 677: 'n03804744', 678: 'n03814639', 679: 'n03814906', 680: 'n03825788', 681: 'n03832673', 682: 'n03837869', 683: 'n03838899', 684: 'n03840681', 685: 'n03841143', 686: 'n03843555', 687: 'n03854065', 688: 'n03857828', 689: 'n03866082', 690: 'n03868242', 691: 'n03868863', 692: 'n03871628', 693: 'n03873416', 694: 'n03874293', 695: 'n03874599', 696: 'n03876231', 697: 'n03877472', 698: 'n03877845', 699: 'n03884397', 700: 'n03887697', 701: 'n03888257', 702: 'n03888605', 703: 'n03891251', 704: 'n03891332', 705: 'n03895866', 706: 'n03899768', 707: 'n03902125', 708: 'n03903868', 709: 'n03908618', 710: 'n03908714', 711: 'n03916031', 712: 'n03920288', 713: 'n03924679', 714: 'n03929660', 715: 'n03929855', 716: 'n03930313', 717: 'n03930630', 718: 'n03933933', 719: 'n03935335', 720: 'n03937543', 721: 'n03938244', 722: 'n03942813', 723: 'n03944341', 724: 'n03947888', 725: 'n03950228', 726: 'n03954731', 727: 'n03956157', 728: 'n03958227', 729: 'n03961711', 730: 'n03967562', 731: 'n03970156', 732: 'n03976467', 733: 'n03976657', 734: 'n03977966', 735: 'n03980874', 736: 'n03982430', 737: 'n03983396', 738: 'n03991062', 739: 'n03992509', 740: 'n03995372', 741: 'n03998194', 742: 'n04004767', 743: 'n04005630', 744: 'n04008634', 745: 'n04009552', 746: 'n04019541', 747: 'n04023962', 748: 'n04026417', 749: 'n04033901', 750: 'n04033995', 751: 'n04037443', 752: 'n04039381', 753: 'n04040759', 754: 'n04041544', 755: 'n04044716', 756: 'n04049303', 757: 'n04065272', 758: 'n04067472', 759: 'n04069434', 760: 'n04070727', 761: 'n04074963', 762: 'n04081281', 763: 'n04086273', 764: 'n04090263', 765: 'n04099969', 766: 'n04111531', 767: 'n04116512', 768: 'n04118538', 769: 'n04118776', 770: 'n04120489', 771: 'n04125021', 772: 'n04127249', 773: 'n04131690', 774: 'n04133789', 775: 'n04136333', 776: 'n04141076', 777: 'n04141327', 778: 'n04141975', 779: 'n04146614', 780: 'n04147183', 781: 'n04149813', 782: 'n04152593', 783: 'n04153751', 784: 'n04154565', 785: 'n04162706', 786: 'n04179913', 787: 'n04192698', 788: 'n04200800', 789: 'n04201297', 790: 'n04204238', 791: 'n04204347', 792: 'n04208210', 793: 'n04209133', 794: 'n04209239', 795: 'n04228054', 796: 'n04229816', 797: 'n04235860', 798: 'n04238763', 799: 'n04239074', 800: 'n04243546', 801: 'n04251144', 802: 'n04252077', 803: 'n04252225', 804: 'n04254120', 805: 'n04254680', 806: 'n04254777', 807: 'n04258138', 808: 'n04259630', 809: 'n04263257', 810: 'n04264628', 811: 'n04265275', 812: 'n04266014', 813: 'n04270147', 814: 'n04273569', 815: 'n04275548', 816: 'n04277352', 817: 'n04285008', 818: 'n04286575', 819: 'n04296562', 820: 'n04310018', 821: 'n04311004', 822: 'n04311174', 823: 'n04317175', 824: 'n04325704', 825: 'n04326547', 826: 'n04328186', 827: 'n04330267', 828: 'n04332243', 829: 'n04335435', 830: 'n04336792', 831: 'n04344873', 832: 'n04346328', 833: 'n04347754', 834: 'n04350905', 835: 'n04355338', 836: 'n04355933', 837: 'n04356056', 838: 'n04357314', 839: 'n04366367', 840: 'n04367480', 841: 'n04370456', 842: 'n04371430', 843: 'n04371774', 844: 'n04372370', 845: 'n04376876', 846: 'n04380533', 847: 'n04389033', 848: 'n04392985', 849: 'n04398044', 850: 'n04399382', 851: 'n04404412', 852: 'n04409515', 853: 'n04417672', 854: 'n04418357', 855: 'n04423845', 856: 'n04428191', 857: 'n04429376', 858: 'n04435653', 859: 'n04442312', 860: 'n04443257', 861: 'n04447861', 862: 'n04456115', 863: 'n04458633', 864: 'n04461696', 865: 'n04462240', 866: 'n04465501', 867: 'n04467665', 868: 'n04476259', 869: 'n04479046', 870: 'n04482393', 871: 'n04483307', 872: 'n04485082', 873: 'n04486054', 874: 'n04487081', 875: 'n04487394', 876: 'n04493381', 877: 'n04501370', 878: 'n04505470', 879: 'n04507155', 880: 'n04509417', 881: 'n04515003', 882: 'n04517823', 883: 'n04522168', 884: 'n04523525', 885: 'n04525038', 886: 'n04525305', 887: 'n04532106', 888: 'n04532670', 889: 'n04536866', 890: 'n04540053', 891: 'n04542943', 892: 'n04548280', 893: 'n04548362', 894: 'n04550184', 895: 'n04552348', 896: 'n04553703', 897: 'n04554684', 898: 'n04557648', 899: 'n04560804', 900: 'n04562935', 901: 'n04579145', 902: 'n04579432', 903: 'n04584207', 904: 'n04589890', 905: 'n04590129', 906: 'n04591157', 907: 'n04591713', 908: 'n04592741', 909: 'n04596742', 910: 'n04597913', 911: 'n04599235', 912: 'n04604644', 913: 'n04606251', 914: 'n04612504', 915: 'n04613696', 916: 'n06359193', 917: 'n06596364', 918: 'n06785654', 919: 'n06794110', 920: 'n06874185', 921: 'n07248320', 922: 'n07565083', 923: 'n07579787', 924: 'n07583066', 925: 'n07584110', 926: 'n07590611', 927: 'n07613480', 928: 'n07614500', 929: 'n07615774', 930: 'n07684084', 931: 'n07693725', 932: 'n07695742', 933: 'n07697313', 934: 'n07697537', 935: 'n07711569', 936: 'n07714571', 937: 'n07714990', 938: 'n07715103', 939: 'n07716358', 940: 'n07716906', 941: 'n07717410', 942: 'n07717556', 943: 'n07718472', 944: 'n07718747', 945: 'n07720875', 946: 'n07730033', 947: 'n07734744', 948: 'n07742313', 949: 'n07745940', 950: 'n07747607', 951: 'n07749582', 952: 'n07753113', 953: 'n07753275', 954: 'n07753592', 955: 'n07754684', 956: 'n07760859', 957: 'n07768694', 958: 'n07802026', 959: 'n07831146', 960: 'n07836838', 961: 'n07860988', 962: 'n07871810', 963: 'n07873807', 964: 'n07875152', 965: 'n07880968', 966: 'n07892512', 967: 'n07920052', 968: 'n07930864', 969: 'n07932039', 970: 'n09193705', 971: 'n09229709', 972: 'n09246464', 973: 'n09256479', 974: 'n09288635', 975: 'n09332890', 976: 'n09399592', 977: 'n09421951', 978: 'n09428293', 979: 'n09468604', 980: 'n09472597', 981: 'n09835506', 982: 'n10148035', 983: 'n10565667', 984: 'n11879895', 985: 'n11939491', 986: 'n12057211', 987: 'n12144580', 988: 'n12267677', 989: 'n12620546', 990: 'n12768682', 991: 'n12985857', 992: 'n12998815', 993: 'n13037406', 994: 'n13040303', 995: 'n13044778', 996: 'n13052670', 997: 'n13054560', 998: 'n13133613', 999: 'n15075141'}\n"
          ]
        }
      ]
    },
    {
      "cell_type": "markdown",
      "source": [
        "Data Path"
      ],
      "metadata": {
        "id": "vA6CVI9OWzhr"
      }
    },
    {
      "cell_type": "code",
      "source": [
        "dataset_path = \"/content/drive/MyDrive/DL_project/archive_CGrestored2\" #noise O -> noise removal\n",
        "\n",
        "#define the training and testing directories\n",
        "train_dir = os.path.join(dataset_path, 'train')\n",
        "test_dir = os.path.join(dataset_path, 'test')\n",
        "\n",
        "#define the categories\n",
        "categories = [\"glioma\", \"meningioma\", \"notumor\", \"pituitary\"]"
      ],
      "metadata": {
        "id": "rBrGzahCW03S"
      },
      "execution_count": 13,
      "outputs": []
    },
    {
      "cell_type": "markdown",
      "source": [
        "Load and Check the dataset"
      ],
      "metadata": {
        "id": "YMu1_TzuXVkT"
      }
    },
    {
      "cell_type": "code",
      "source": [
        "train_data = []\n",
        "\n",
        "for category in categories:\n",
        "    path = os.path.join(train_dir, category)\n",
        "    images = os.listdir(path)\n",
        "    count = len(images)\n",
        "    train_data.append(pd.DataFrame({\"Image\" : images, \"Category\": [category] * count, \"Count\" : [count]*count}))\n",
        "\n",
        "    train_df = pd.concat(train_data, axis=0)\n",
        "\n",
        "# Visualize the distribution of tumor types in the training dataset\n",
        "# ratio = train_df[\"Count\"].unique()\n",
        "print(train_df['Category'].value_counts())\n",
        "ratio = [1321, 1339, 1595, 1457] #glioma, meningioma, notumor, pituitary\n",
        "total = sum(ratio)\n",
        "percent = [(i/total) * 100 for i in ratio]\n",
        "colors = sns.color_palette('hls',len(ratio))\n",
        "plt.figure(figsize=(8, 6))\n",
        "plt.pie(percent, colors=colors, labels = categories, autopct = '%1.1f%%', startangle = 90)\n",
        "plt.title(\"Class Distribution of Tumor Types of Train Dataset\")\n",
        "plt.show()"
      ],
      "metadata": {
        "colab": {
          "base_uri": "https://localhost:8080/",
          "height": 614
        },
        "id": "igTdUG0OXZQ7",
        "outputId": "310cf361-2621-4261-b49c-53c4df589e81"
      },
      "execution_count": 14,
      "outputs": [
        {
          "output_type": "stream",
          "name": "stdout",
          "text": [
            "notumor       1595\n",
            "pituitary     1457\n",
            "meningioma    1339\n",
            "glioma        1321\n",
            "Name: Category, dtype: int64\n"
          ]
        },
        {
          "output_type": "display_data",
          "data": {
            "text/plain": [
              "<Figure size 800x600 with 1 Axes>"
            ],
            "image/png": "[encoded data removed]"
          },
          "metadata": {}
        }
      ]
    },
    {
      "cell_type": "code",
      "source": [
        "test_data = []\n",
        "\n",
        "for category in categories:\n",
        "    path = os.path.join(test_dir, category)\n",
        "    images = os.listdir(path)\n",
        "    count = len(images)\n",
        "    test_data.append(pd.DataFrame({\"Image\" : images, \"Category\": [category] * count, \"Count\" : [count]*count}))\n",
        "\n",
        "    test_df = pd.concat(test_data, axis=0)\n",
        "\n",
        "# Visualize the distribution of tumor types in the training dataset\n",
        "\n",
        "print(test_df['Category'].value_counts())\n",
        "ratio = [300, 306, 405, 300] #glioma, meningioma, notumor, pituitary\n",
        "total = sum(ratio)\n",
        "percent = [(i/total) * 100 for i in ratio]\n",
        "colors = sns.color_palette('hls',len(ratio))\n",
        "plt.figure(figsize=(8, 6))\n",
        "plt.pie(percent, colors=colors, labels = categories, autopct = '%1.1f%%', startangle = 90)\n",
        "plt.title(\"Class Distribution of Tumor Types of Test Dataset\")"
      ],
      "metadata": {
        "colab": {
          "base_uri": "https://localhost:8080/",
          "height": 633
        },
        "id": "e9fcr4JMXZt2",
        "outputId": "2c64ae17-b32a-4f39-b862-d3e41d7433fa"
      },
      "execution_count": 15,
      "outputs": [
        {
          "output_type": "stream",
          "name": "stdout",
          "text": [
            "notumor       405\n",
            "meningioma    306\n",
            "glioma        300\n",
            "pituitary     300\n",
            "Name: Category, dtype: int64\n"
          ]
        },
        {
          "output_type": "execute_result",
          "data": {
            "text/plain": [
              "Text(0.5, 1.0, 'Class Distribution of Tumor Types of Test Dataset')"
            ]
          },
          "metadata": {},
          "execution_count": 15
        },
        {
          "output_type": "display_data",
          "data": {
            "text/plain": [
              "<Figure size 800x600 with 1 Axes>"
            ],
            "image/png": "[encoded data removed]"
          },
          "metadata": {}
        }
      ]
    },
    {
      "cell_type": "markdown",
      "source": [
        "set up the image size, batch size, epoch"
      ],
      "metadata": {
        "id": "KtpateYVXBgO"
      }
    },
    {
      "cell_type": "code",
      "source": [
        "#image_size = (160, 160)\n",
        "batch_size = 32\n",
        "epochs = 50"
      ],
      "metadata": {
        "id": "RMguOLtSXB7G"
      },
      "execution_count": 16,
      "outputs": []
    },
    {
      "cell_type": "code",
      "source": [
        "results = model_noise_r.train(data = dataset_path, epochs = epochs, imgsz=160)"
      ],
      "metadata": {
        "colab": {
          "base_uri": "https://localhost:8080/"
        },
        "id": "XDICAfdEXDz0",
        "outputId": "46eaee8f-b462-4d1d-db95-568e9b66c269"
      },
      "execution_count": 17,
      "outputs": [
        {
          "output_type": "stream",
          "name": "stdout",
          "text": [
            "Ultralytics YOLOv8.0.222 🚀 Python-3.10.12 torch-2.1.0+cu118 CUDA:0 (Tesla T4, 15102MiB)\n",
            "\u001b[34m\u001b[1mengine/trainer: \u001b[0mtask=classify, mode=train, model=yolov8n-cls.pt, data=/content/drive/MyDrive/DL_project/archive_CGrestored2, epochs=50, patience=50, batch=16, imgsz=160, save=True, save_period=-1, cache=False, device=None, workers=8, project=None, name=train, exist_ok=False, pretrained=True, optimizer=auto, verbose=True, seed=0, deterministic=True, single_cls=False, rect=False, cos_lr=False, close_mosaic=10, resume=False, amp=True, fraction=1.0, profile=False, freeze=None, overlap_mask=True, mask_ratio=4, dropout=0.0, val=True, split=val, save_json=False, save_hybrid=False, conf=None, iou=0.7, max_det=300, half=False, dnn=False, plots=True, source=None, vid_stride=1, stream_buffer=False, visualize=False, augment=False, agnostic_nms=False, classes=None, retina_masks=False, show=False, save_frames=False, save_txt=False, save_conf=False, save_crop=False, show_labels=True, show_conf=True, show_boxes=True, line_width=None, format=torchscript, keras=False, optimize=False, int8=False, dynamic=False, simplify=False, opset=None, workspace=4, nms=False, lr0=0.01, lrf=0.01, momentum=0.937, weight_decay=0.0005, warmup_epochs=3.0, warmup_momentum=0.8, warmup_bias_lr=0.1, box=7.5, cls=0.5, dfl=1.5, pose=12.0, kobj=1.0, label_smoothing=0.0, nbs=64, hsv_h=0.015, hsv_s=0.7, hsv_v=0.4, degrees=0.0, translate=0.1, scale=0.5, shear=0.0, perspective=0.0, flipud=0.0, fliplr=0.5, mosaic=1.0, mixup=0.0, copy_paste=0.0, cfg=None, tracker=botsort.yaml, save_dir=runs/classify/train\n",
            "\u001b[34m\u001b[1mtrain:\u001b[0m /content/drive/MyDrive/DL_project/archive_CGrestored2/train... found 5712 images in 4 classes ✅ \n",
            "\u001b[34m\u001b[1mval:\u001b[0m None...\n",
            "\u001b[34m\u001b[1mtest:\u001b[0m /content/drive/MyDrive/DL_project/archive_CGrestored2/test... found 1311 images in 4 classes ✅ \n",
            "Overriding model.yaml nc=1000 with nc=4\n",
            "\n",
            "                   from  n    params  module                                       arguments                     \n",
            "  0                  -1  1       464  ultralytics.nn.modules.conv.Conv             [3, 16, 3, 2]                 \n",
            "  1                  -1  1      4672  ultralytics.nn.modules.conv.Conv             [16, 32, 3, 2]                \n",
            "  2                  -1  1      7360  ultralytics.nn.modules.block.C2f             [32, 32, 1, True]             \n",
            "  3                  -1  1     18560  ultralytics.nn.modules.conv.Conv             [32, 64, 3, 2]                \n",
            "  4                  -1  2     49664  ultralytics.nn.modules.block.C2f             [64, 64, 2, True]             \n",
            "  5                  -1  1     73984  ultralytics.nn.modules.conv.Conv             [64, 128, 3, 2]               \n",
            "  6                  -1  2    197632  ultralytics.nn.modules.block.C2f             [128, 128, 2, True]           \n",
            "  7                  -1  1    295424  ultralytics.nn.modules.conv.Conv             [128, 256, 3, 2]              \n",
            "  8                  -1  1    460288  ultralytics.nn.modules.block.C2f             [256, 256, 1, True]           \n",
            "  9                  -1  1    335364  ultralytics.nn.modules.head.Classify         [256, 4]                      \n",
            "YOLOv8n-cls summary: 99 layers, 1443412 parameters, 1443412 gradients, 3.4 GFLOPs\n",
            "Transferred 156/158 items from pretrained weights\n",
            "\u001b[34m\u001b[1mTensorBoard: \u001b[0mStart with 'tensorboard --logdir runs/classify/train', view at http://localhost:6006/\n",
            "\u001b[34m\u001b[1mAMP: \u001b[0mrunning Automatic Mixed Precision (AMP) checks with YOLOv8n...\n",
            "Downloading https://github.com/ultralytics/assets/releases/download/v0.0.0/yolov8n.pt to 'yolov8n.pt'...\n"
          ]
        },
        {
          "output_type": "stream",
          "name": "stderr",
          "text": [
            "100%|██████████| 6.23M/6.23M [00:00<00:00, 74.0MB/s]\n"
          ]
        },
        {
          "output_type": "stream",
          "name": "stdout",
          "text": [
            "\u001b[34m\u001b[1mAMP: \u001b[0mchecks passed ✅\n"
          ]
        },
        {
          "output_type": "stream",
          "name": "stderr",
          "text": [
            "\u001b[34m\u001b[1mtrain: \u001b[0mScanning /content/drive/MyDrive/DL_project/archive_CGrestored2/train... 5712 images, 0 corrupt: 100%|██████████| 5712/5712 [14:59<00:00,  6.35it/s]\n"
          ]
        },
        {
          "output_type": "stream",
          "name": "stdout",
          "text": [
            "\u001b[34m\u001b[1mtrain: \u001b[0mNew cache created: /content/drive/MyDrive/DL_project/archive_CGrestored2/train.cache\n",
            "\u001b[34m\u001b[1malbumentations: \u001b[0mRandomResizedCrop(p=1.0, height=160, width=160, scale=(0.5, 1.0), ratio=(0.75, 1.3333333333333333), interpolation=1), HorizontalFlip(p=0.5), ColorJitter(p=0.5, brightness=[0.6, 1.4], contrast=[0.6, 1.4], saturation=[0.30000000000000004, 1.7], hue=[-0.015, 0.015]), Normalize(p=1.0, mean=(0.0, 0.0, 0.0), std=(1.0, 1.0, 1.0), max_pixel_value=255.0), ToTensorV2(always_apply=True, p=1.0, transpose_mask=False)\n"
          ]
        },
        {
          "output_type": "stream",
          "name": "stderr",
          "text": [
            "\u001b[34m\u001b[1mval: \u001b[0mScanning /content/drive/MyDrive/DL_project/archive_CGrestored2/test... 1311 images, 0 corrupt: 100%|██████████| 1311/1311 [03:24<00:00,  6.41it/s]\n"
          ]
        },
        {
          "output_type": "stream",
          "name": "stdout",
          "text": [
            "\u001b[34m\u001b[1mval: \u001b[0mNew cache created: /content/drive/MyDrive/DL_project/archive_CGrestored2/test.cache\n",
            "\u001b[34m\u001b[1moptimizer:\u001b[0m 'optimizer=auto' found, ignoring 'lr0=0.01' and 'momentum=0.937' and determining best 'optimizer', 'lr0' and 'momentum' automatically... \n",
            "\u001b[34m\u001b[1moptimizer:\u001b[0m AdamW(lr=0.000714, momentum=0.9) with parameter groups 26 weight(decay=0.0), 27 weight(decay=0.0005), 27 bias(decay=0.0)\n",
            "Image sizes 160 train, 160 val\n",
            "Using 2 dataloader workers\n",
            "Logging results to \u001b[1mruns/classify/train\u001b[0m\n",
            "Starting training for 50 epochs...\n",
            "\n",
            "      Epoch    GPU_mem       loss  Instances       Size\n"
          ]
        },
        {
          "output_type": "stream",
          "name": "stderr",
          "text": [
            "       1/50     0.405G      1.587         16        160:   1%|▏         | 5/357 [00:01<01:23,  4.23it/s]"
          ]
        },
        {
          "output_type": "stream",
          "name": "stdout",
          "text": [
            "Downloading https://ultralytics.com/assets/Arial.ttf to '/root/.config/Ultralytics/Arial.ttf'...\n"
          ]
        },
        {
          "output_type": "stream",
          "name": "stderr",
          "text": [
            "       1/50     0.405G      1.535         16        160:   2%|▏         | 8/357 [00:03<02:17,  2.54it/s]\n",
            "100%|██████████| 755k/755k [00:00<00:00, 12.1MB/s]\n",
            "       1/50     0.409G     0.7349         16        160: 100%|██████████| 357/357 [01:28<00:00,  4.03it/s]\n",
            "               classes   top1_acc   top5_acc: 100%|██████████| 41/41 [00:16<00:00,  2.47it/s]"
          ]
        },
        {
          "output_type": "stream",
          "name": "stdout",
          "text": [
            "                   all      0.867          1\n"
          ]
        },
        {
          "output_type": "stream",
          "name": "stderr",
          "text": [
            "\n"
          ]
        },
        {
          "output_type": "stream",
          "name": "stdout",
          "text": [
            "\n",
            "      Epoch    GPU_mem       loss  Instances       Size\n"
          ]
        },
        {
          "output_type": "stream",
          "name": "stderr",
          "text": [
            "       2/50     0.388G     0.3173         16        160: 100%|██████████| 357/357 [01:27<00:00,  4.09it/s]\n",
            "               classes   top1_acc   top5_acc: 100%|██████████| 41/41 [00:17<00:00,  2.40it/s]"
          ]
        },
        {
          "output_type": "stream",
          "name": "stdout",
          "text": [
            "                   all      0.908          1\n"
          ]
        },
        {
          "output_type": "stream",
          "name": "stderr",
          "text": [
            "\n"
          ]
        },
        {
          "output_type": "stream",
          "name": "stdout",
          "text": [
            "\n",
            "      Epoch    GPU_mem       loss  Instances       Size\n"
          ]
        },
        {
          "output_type": "stream",
          "name": "stderr",
          "text": [
            "       3/50     0.388G     0.2482         16        160: 100%|██████████| 357/357 [01:27<00:00,  4.07it/s]\n",
            "               classes   top1_acc   top5_acc: 100%|██████████| 41/41 [00:16<00:00,  2.42it/s]"
          ]
        },
        {
          "output_type": "stream",
          "name": "stdout",
          "text": [
            "                   all      0.891          1\n"
          ]
        },
        {
          "output_type": "stream",
          "name": "stderr",
          "text": [
            "\n"
          ]
        },
        {
          "output_type": "stream",
          "name": "stdout",
          "text": [
            "\n",
            "      Epoch    GPU_mem       loss  Instances       Size\n"
          ]
        },
        {
          "output_type": "stream",
          "name": "stderr",
          "text": [
            "       4/50     0.388G     0.2169         16        160: 100%|██████████| 357/357 [01:27<00:00,  4.07it/s]\n",
            "               classes   top1_acc   top5_acc: 100%|██████████| 41/41 [00:17<00:00,  2.38it/s]"
          ]
        },
        {
          "output_type": "stream",
          "name": "stdout",
          "text": [
            "                   all      0.931          1\n"
          ]
        },
        {
          "output_type": "stream",
          "name": "stderr",
          "text": [
            "\n"
          ]
        },
        {
          "output_type": "stream",
          "name": "stdout",
          "text": [
            "\n",
            "      Epoch    GPU_mem       loss  Instances       Size\n"
          ]
        },
        {
          "output_type": "stream",
          "name": "stderr",
          "text": [
            "       5/50     0.388G     0.1736         16        160: 100%|██████████| 357/357 [01:29<00:00,  4.00it/s]\n",
            "               classes   top1_acc   top5_acc: 100%|██████████| 41/41 [00:17<00:00,  2.40it/s]"
          ]
        },
        {
          "output_type": "stream",
          "name": "stdout",
          "text": [
            "                   all      0.929          1\n"
          ]
        },
        {
          "output_type": "stream",
          "name": "stderr",
          "text": [
            "\n"
          ]
        },
        {
          "output_type": "stream",
          "name": "stdout",
          "text": [
            "\n",
            "      Epoch    GPU_mem       loss  Instances       Size\n"
          ]
        },
        {
          "output_type": "stream",
          "name": "stderr",
          "text": [
            "       6/50     0.388G     0.1341         16        160: 100%|██████████| 357/357 [01:31<00:00,  3.91it/s]\n",
            "               classes   top1_acc   top5_acc: 100%|██████████| 41/41 [00:17<00:00,  2.34it/s]"
          ]
        },
        {
          "output_type": "stream",
          "name": "stdout",
          "text": [
            "                   all      0.953          1\n"
          ]
        },
        {
          "output_type": "stream",
          "name": "stderr",
          "text": [
            "\n"
          ]
        },
        {
          "output_type": "stream",
          "name": "stdout",
          "text": [
            "\n",
            "      Epoch    GPU_mem       loss  Instances       Size\n"
          ]
        },
        {
          "output_type": "stream",
          "name": "stderr",
          "text": [
            "       7/50     0.388G     0.1229         16        160: 100%|██████████| 357/357 [01:29<00:00,  3.99it/s]\n",
            "               classes   top1_acc   top5_acc: 100%|██████████| 41/41 [00:16<00:00,  2.43it/s]"
          ]
        },
        {
          "output_type": "stream",
          "name": "stdout",
          "text": [
            "                   all       0.96          1\n"
          ]
        },
        {
          "output_type": "stream",
          "name": "stderr",
          "text": [
            "\n"
          ]
        },
        {
          "output_type": "stream",
          "name": "stdout",
          "text": [
            "\n",
            "      Epoch    GPU_mem       loss  Instances       Size\n"
          ]
        },
        {
          "output_type": "stream",
          "name": "stderr",
          "text": [
            "       8/50     0.388G     0.1114         16        160: 100%|██████████| 357/357 [01:28<00:00,  4.01it/s]\n",
            "               classes   top1_acc   top5_acc: 100%|██████████| 41/41 [00:17<00:00,  2.40it/s]"
          ]
        },
        {
          "output_type": "stream",
          "name": "stdout",
          "text": [
            "                   all      0.961          1\n"
          ]
        },
        {
          "output_type": "stream",
          "name": "stderr",
          "text": [
            "\n"
          ]
        },
        {
          "output_type": "stream",
          "name": "stdout",
          "text": [
            "\n",
            "      Epoch    GPU_mem       loss  Instances       Size\n"
          ]
        },
        {
          "output_type": "stream",
          "name": "stderr",
          "text": [
            "       9/50     0.388G    0.09417         16        160: 100%|██████████| 357/357 [01:27<00:00,  4.06it/s]\n",
            "               classes   top1_acc   top5_acc: 100%|██████████| 41/41 [00:16<00:00,  2.42it/s]"
          ]
        },
        {
          "output_type": "stream",
          "name": "stdout",
          "text": [
            "                   all      0.963          1\n"
          ]
        },
        {
          "output_type": "stream",
          "name": "stderr",
          "text": [
            "\n"
          ]
        },
        {
          "output_type": "stream",
          "name": "stdout",
          "text": [
            "\n",
            "      Epoch    GPU_mem       loss  Instances       Size\n"
          ]
        },
        {
          "output_type": "stream",
          "name": "stderr",
          "text": [
            "      10/50     0.388G    0.08031         16        160: 100%|██████████| 357/357 [01:27<00:00,  4.10it/s]\n",
            "               classes   top1_acc   top5_acc: 100%|██████████| 41/41 [00:17<00:00,  2.37it/s]"
          ]
        },
        {
          "output_type": "stream",
          "name": "stdout",
          "text": [
            "                   all       0.96          1\n"
          ]
        },
        {
          "output_type": "stream",
          "name": "stderr",
          "text": [
            "\n"
          ]
        },
        {
          "output_type": "stream",
          "name": "stdout",
          "text": [
            "\n",
            "      Epoch    GPU_mem       loss  Instances       Size\n"
          ]
        },
        {
          "output_type": "stream",
          "name": "stderr",
          "text": [
            "      11/50     0.388G    0.08429         16        160: 100%|██████████| 357/357 [01:28<00:00,  4.05it/s]\n",
            "               classes   top1_acc   top5_acc: 100%|██████████| 41/41 [00:16<00:00,  2.42it/s]"
          ]
        },
        {
          "output_type": "stream",
          "name": "stdout",
          "text": [
            "                   all      0.937          1\n"
          ]
        },
        {
          "output_type": "stream",
          "name": "stderr",
          "text": [
            "\n"
          ]
        },
        {
          "output_type": "stream",
          "name": "stdout",
          "text": [
            "\n",
            "      Epoch    GPU_mem       loss  Instances       Size\n"
          ]
        },
        {
          "output_type": "stream",
          "name": "stderr",
          "text": [
            "      12/50     0.388G    0.07242         16        160: 100%|██████████| 357/357 [01:26<00:00,  4.11it/s]\n",
            "               classes   top1_acc   top5_acc: 100%|██████████| 41/41 [00:16<00:00,  2.47it/s]"
          ]
        },
        {
          "output_type": "stream",
          "name": "stdout",
          "text": [
            "                   all      0.963          1\n"
          ]
        },
        {
          "output_type": "stream",
          "name": "stderr",
          "text": [
            "\n"
          ]
        },
        {
          "output_type": "stream",
          "name": "stdout",
          "text": [
            "\n",
            "      Epoch    GPU_mem       loss  Instances       Size\n"
          ]
        },
        {
          "output_type": "stream",
          "name": "stderr",
          "text": [
            "      13/50     0.388G    0.05865         16        160: 100%|██████████| 357/357 [01:27<00:00,  4.08it/s]\n",
            "               classes   top1_acc   top5_acc: 100%|██████████| 41/41 [00:16<00:00,  2.43it/s]"
          ]
        },
        {
          "output_type": "stream",
          "name": "stdout",
          "text": [
            "                   all      0.963          1\n"
          ]
        },
        {
          "output_type": "stream",
          "name": "stderr",
          "text": [
            "\n"
          ]
        },
        {
          "output_type": "stream",
          "name": "stdout",
          "text": [
            "\n",
            "      Epoch    GPU_mem       loss  Instances       Size\n"
          ]
        },
        {
          "output_type": "stream",
          "name": "stderr",
          "text": [
            "      14/50     0.388G    0.06082         16        160: 100%|██████████| 357/357 [01:27<00:00,  4.10it/s]\n",
            "               classes   top1_acc   top5_acc: 100%|██████████| 41/41 [00:16<00:00,  2.47it/s]"
          ]
        },
        {
          "output_type": "stream",
          "name": "stdout",
          "text": [
            "                   all      0.963          1\n"
          ]
        },
        {
          "output_type": "stream",
          "name": "stderr",
          "text": [
            "\n"
          ]
        },
        {
          "output_type": "stream",
          "name": "stdout",
          "text": [
            "\n",
            "      Epoch    GPU_mem       loss  Instances       Size\n"
          ]
        },
        {
          "output_type": "stream",
          "name": "stderr",
          "text": [
            "      15/50     0.388G    0.04684         16        160: 100%|██████████| 357/357 [01:26<00:00,  4.13it/s]\n",
            "               classes   top1_acc   top5_acc: 100%|██████████| 41/41 [00:16<00:00,  2.46it/s]"
          ]
        },
        {
          "output_type": "stream",
          "name": "stdout",
          "text": [
            "                   all      0.969          1\n"
          ]
        },
        {
          "output_type": "stream",
          "name": "stderr",
          "text": [
            "\n"
          ]
        },
        {
          "output_type": "stream",
          "name": "stdout",
          "text": [
            "\n",
            "      Epoch    GPU_mem       loss  Instances       Size\n"
          ]
        },
        {
          "output_type": "stream",
          "name": "stderr",
          "text": [
            "      16/50     0.388G     0.0451         16        160: 100%|██████████| 357/357 [01:26<00:00,  4.12it/s]\n",
            "               classes   top1_acc   top5_acc: 100%|██████████| 41/41 [00:16<00:00,  2.45it/s]"
          ]
        },
        {
          "output_type": "stream",
          "name": "stdout",
          "text": [
            "                   all      0.972          1\n"
          ]
        },
        {
          "output_type": "stream",
          "name": "stderr",
          "text": [
            "\n"
          ]
        },
        {
          "output_type": "stream",
          "name": "stdout",
          "text": [
            "\n",
            "      Epoch    GPU_mem       loss  Instances       Size\n"
          ]
        },
        {
          "output_type": "stream",
          "name": "stderr",
          "text": [
            "      17/50     0.388G    0.04171         16        160: 100%|██████████| 357/357 [01:26<00:00,  4.14it/s]\n",
            "               classes   top1_acc   top5_acc: 100%|██████████| 41/41 [00:16<00:00,  2.49it/s]"
          ]
        },
        {
          "output_type": "stream",
          "name": "stdout",
          "text": [
            "                   all      0.967          1\n"
          ]
        },
        {
          "output_type": "stream",
          "name": "stderr",
          "text": [
            "\n"
          ]
        },
        {
          "output_type": "stream",
          "name": "stdout",
          "text": [
            "\n",
            "      Epoch    GPU_mem       loss  Instances       Size\n"
          ]
        },
        {
          "output_type": "stream",
          "name": "stderr",
          "text": [
            "      18/50     0.388G    0.03738         16        160: 100%|██████████| 357/357 [01:26<00:00,  4.13it/s]\n",
            "               classes   top1_acc   top5_acc: 100%|██████████| 41/41 [00:16<00:00,  2.45it/s]"
          ]
        },
        {
          "output_type": "stream",
          "name": "stdout",
          "text": [
            "                   all      0.974          1\n"
          ]
        },
        {
          "output_type": "stream",
          "name": "stderr",
          "text": [
            "\n"
          ]
        },
        {
          "output_type": "stream",
          "name": "stdout",
          "text": [
            "\n",
            "      Epoch    GPU_mem       loss  Instances       Size\n"
          ]
        },
        {
          "output_type": "stream",
          "name": "stderr",
          "text": [
            "      19/50     0.388G    0.04072         16        160: 100%|██████████| 357/357 [01:26<00:00,  4.14it/s]\n",
            "               classes   top1_acc   top5_acc: 100%|██████████| 41/41 [00:17<00:00,  2.38it/s]"
          ]
        },
        {
          "output_type": "stream",
          "name": "stdout",
          "text": [
            "                   all      0.972          1\n"
          ]
        },
        {
          "output_type": "stream",
          "name": "stderr",
          "text": [
            "\n"
          ]
        },
        {
          "output_type": "stream",
          "name": "stdout",
          "text": [
            "\n",
            "      Epoch    GPU_mem       loss  Instances       Size\n"
          ]
        },
        {
          "output_type": "stream",
          "name": "stderr",
          "text": [
            "      20/50     0.388G    0.02828         16        160: 100%|██████████| 357/357 [01:27<00:00,  4.06it/s]\n",
            "               classes   top1_acc   top5_acc: 100%|██████████| 41/41 [00:18<00:00,  2.19it/s]"
          ]
        },
        {
          "output_type": "stream",
          "name": "stdout",
          "text": [
            "                   all      0.972          1\n"
          ]
        },
        {
          "output_type": "stream",
          "name": "stderr",
          "text": [
            "\n"
          ]
        },
        {
          "output_type": "stream",
          "name": "stdout",
          "text": [
            "\n",
            "      Epoch    GPU_mem       loss  Instances       Size\n"
          ]
        },
        {
          "output_type": "stream",
          "name": "stderr",
          "text": [
            "      21/50     0.388G    0.03321         16        160: 100%|██████████| 357/357 [01:32<00:00,  3.87it/s]\n",
            "               classes   top1_acc   top5_acc: 100%|██████████| 41/41 [00:16<00:00,  2.47it/s]"
          ]
        },
        {
          "output_type": "stream",
          "name": "stdout",
          "text": [
            "                   all      0.971          1\n"
          ]
        },
        {
          "output_type": "stream",
          "name": "stderr",
          "text": [
            "\n"
          ]
        },
        {
          "output_type": "stream",
          "name": "stdout",
          "text": [
            "\n",
            "      Epoch    GPU_mem       loss  Instances       Size\n"
          ]
        },
        {
          "output_type": "stream",
          "name": "stderr",
          "text": [
            "      22/50     0.388G    0.02883         16        160: 100%|██████████| 357/357 [01:31<00:00,  3.91it/s]\n",
            "               classes   top1_acc   top5_acc: 100%|██████████| 41/41 [00:18<00:00,  2.20it/s]"
          ]
        },
        {
          "output_type": "stream",
          "name": "stdout",
          "text": [
            "                   all      0.974          1\n"
          ]
        },
        {
          "output_type": "stream",
          "name": "stderr",
          "text": [
            "\n"
          ]
        },
        {
          "output_type": "stream",
          "name": "stdout",
          "text": [
            "\n",
            "      Epoch    GPU_mem       loss  Instances       Size\n"
          ]
        },
        {
          "output_type": "stream",
          "name": "stderr",
          "text": [
            "      23/50     0.388G    0.03304         16        160: 100%|██████████| 357/357 [01:32<00:00,  3.85it/s]\n",
            "               classes   top1_acc   top5_acc: 100%|██████████| 41/41 [00:17<00:00,  2.29it/s]"
          ]
        },
        {
          "output_type": "stream",
          "name": "stdout",
          "text": [
            "                   all       0.97          1\n"
          ]
        },
        {
          "output_type": "stream",
          "name": "stderr",
          "text": [
            "\n"
          ]
        },
        {
          "output_type": "stream",
          "name": "stdout",
          "text": [
            "\n",
            "      Epoch    GPU_mem       loss  Instances       Size\n"
          ]
        },
        {
          "output_type": "stream",
          "name": "stderr",
          "text": [
            "      24/50     0.388G    0.01893         16        160: 100%|██████████| 357/357 [01:31<00:00,  3.90it/s]\n",
            "               classes   top1_acc   top5_acc: 100%|██████████| 41/41 [00:18<00:00,  2.27it/s]"
          ]
        },
        {
          "output_type": "stream",
          "name": "stdout",
          "text": [
            "                   all      0.972          1\n"
          ]
        },
        {
          "output_type": "stream",
          "name": "stderr",
          "text": [
            "\n"
          ]
        },
        {
          "output_type": "stream",
          "name": "stdout",
          "text": [
            "\n",
            "      Epoch    GPU_mem       loss  Instances       Size\n"
          ]
        },
        {
          "output_type": "stream",
          "name": "stderr",
          "text": [
            "      25/50     0.388G    0.01877         16        160: 100%|██████████| 357/357 [01:27<00:00,  4.07it/s]\n",
            "               classes   top1_acc   top5_acc: 100%|██████████| 41/41 [00:16<00:00,  2.41it/s]"
          ]
        },
        {
          "output_type": "stream",
          "name": "stdout",
          "text": [
            "                   all      0.977          1\n"
          ]
        },
        {
          "output_type": "stream",
          "name": "stderr",
          "text": [
            "\n"
          ]
        },
        {
          "output_type": "stream",
          "name": "stdout",
          "text": [
            "\n",
            "      Epoch    GPU_mem       loss  Instances       Size\n"
          ]
        },
        {
          "output_type": "stream",
          "name": "stderr",
          "text": [
            "      26/50     0.388G    0.02593         16        160: 100%|██████████| 357/357 [01:27<00:00,  4.07it/s]\n",
            "               classes   top1_acc   top5_acc: 100%|██████████| 41/41 [00:17<00:00,  2.41it/s]"
          ]
        },
        {
          "output_type": "stream",
          "name": "stdout",
          "text": [
            "                   all      0.971          1\n"
          ]
        },
        {
          "output_type": "stream",
          "name": "stderr",
          "text": [
            "\n"
          ]
        },
        {
          "output_type": "stream",
          "name": "stdout",
          "text": [
            "\n",
            "      Epoch    GPU_mem       loss  Instances       Size\n"
          ]
        },
        {
          "output_type": "stream",
          "name": "stderr",
          "text": [
            "      27/50     0.388G    0.01524         16        160: 100%|██████████| 357/357 [01:28<00:00,  4.03it/s]\n",
            "               classes   top1_acc   top5_acc: 100%|██████████| 41/41 [00:16<00:00,  2.41it/s]"
          ]
        },
        {
          "output_type": "stream",
          "name": "stdout",
          "text": [
            "                   all       0.98          1\n"
          ]
        },
        {
          "output_type": "stream",
          "name": "stderr",
          "text": [
            "\n"
          ]
        },
        {
          "output_type": "stream",
          "name": "stdout",
          "text": [
            "\n",
            "      Epoch    GPU_mem       loss  Instances       Size\n"
          ]
        },
        {
          "output_type": "stream",
          "name": "stderr",
          "text": [
            "      28/50     0.388G    0.02112         16        160: 100%|██████████| 357/357 [01:28<00:00,  4.02it/s]\n",
            "               classes   top1_acc   top5_acc: 100%|██████████| 41/41 [00:17<00:00,  2.39it/s]"
          ]
        },
        {
          "output_type": "stream",
          "name": "stdout",
          "text": [
            "                   all      0.982          1\n"
          ]
        },
        {
          "output_type": "stream",
          "name": "stderr",
          "text": [
            "\n"
          ]
        },
        {
          "output_type": "stream",
          "name": "stdout",
          "text": [
            "\n",
            "      Epoch    GPU_mem       loss  Instances       Size\n"
          ]
        },
        {
          "output_type": "stream",
          "name": "stderr",
          "text": [
            "      29/50     0.388G    0.01804         16        160: 100%|██████████| 357/357 [01:29<00:00,  4.01it/s]\n",
            "               classes   top1_acc   top5_acc: 100%|██████████| 41/41 [00:17<00:00,  2.39it/s]"
          ]
        },
        {
          "output_type": "stream",
          "name": "stdout",
          "text": [
            "                   all      0.981          1\n"
          ]
        },
        {
          "output_type": "stream",
          "name": "stderr",
          "text": [
            "\n"
          ]
        },
        {
          "output_type": "stream",
          "name": "stdout",
          "text": [
            "\n",
            "      Epoch    GPU_mem       loss  Instances       Size\n"
          ]
        },
        {
          "output_type": "stream",
          "name": "stderr",
          "text": [
            "      30/50     0.388G     0.0163         16        160: 100%|██████████| 357/357 [01:29<00:00,  4.01it/s]\n",
            "               classes   top1_acc   top5_acc: 100%|██████████| 41/41 [00:17<00:00,  2.37it/s]"
          ]
        },
        {
          "output_type": "stream",
          "name": "stdout",
          "text": [
            "                   all      0.973          1\n"
          ]
        },
        {
          "output_type": "stream",
          "name": "stderr",
          "text": [
            "\n"
          ]
        },
        {
          "output_type": "stream",
          "name": "stdout",
          "text": [
            "\n",
            "      Epoch    GPU_mem       loss  Instances       Size\n"
          ]
        },
        {
          "output_type": "stream",
          "name": "stderr",
          "text": [
            "      31/50     0.388G    0.01698         16        160: 100%|██████████| 357/357 [01:28<00:00,  4.04it/s]\n",
            "               classes   top1_acc   top5_acc: 100%|██████████| 41/41 [00:17<00:00,  2.39it/s]"
          ]
        },
        {
          "output_type": "stream",
          "name": "stdout",
          "text": [
            "                   all      0.976          1\n"
          ]
        },
        {
          "output_type": "stream",
          "name": "stderr",
          "text": [
            "\n"
          ]
        },
        {
          "output_type": "stream",
          "name": "stdout",
          "text": [
            "\n",
            "      Epoch    GPU_mem       loss  Instances       Size\n"
          ]
        },
        {
          "output_type": "stream",
          "name": "stderr",
          "text": [
            "      32/50     0.388G    0.01363         16        160: 100%|██████████| 357/357 [01:30<00:00,  3.93it/s]\n",
            "               classes   top1_acc   top5_acc: 100%|██████████| 41/41 [00:22<00:00,  1.81it/s]"
          ]
        },
        {
          "output_type": "stream",
          "name": "stdout",
          "text": [
            "                   all      0.982          1\n"
          ]
        },
        {
          "output_type": "stream",
          "name": "stderr",
          "text": [
            "\n"
          ]
        },
        {
          "output_type": "stream",
          "name": "stdout",
          "text": [
            "\n",
            "      Epoch    GPU_mem       loss  Instances       Size\n"
          ]
        },
        {
          "output_type": "stream",
          "name": "stderr",
          "text": [
            "      33/50     0.388G    0.01818         16        160: 100%|██████████| 357/357 [01:33<00:00,  3.83it/s]\n",
            "               classes   top1_acc   top5_acc: 100%|██████████| 41/41 [00:16<00:00,  2.45it/s]"
          ]
        },
        {
          "output_type": "stream",
          "name": "stdout",
          "text": [
            "                   all      0.981          1\n"
          ]
        },
        {
          "output_type": "stream",
          "name": "stderr",
          "text": [
            "\n"
          ]
        },
        {
          "output_type": "stream",
          "name": "stdout",
          "text": [
            "\n",
            "      Epoch    GPU_mem       loss  Instances       Size\n"
          ]
        },
        {
          "output_type": "stream",
          "name": "stderr",
          "text": [
            "      34/50     0.388G    0.01012         16        160: 100%|██████████| 357/357 [01:31<00:00,  3.90it/s]\n",
            "               classes   top1_acc   top5_acc: 100%|██████████| 41/41 [00:17<00:00,  2.35it/s]"
          ]
        },
        {
          "output_type": "stream",
          "name": "stdout",
          "text": [
            "                   all      0.979          1\n"
          ]
        },
        {
          "output_type": "stream",
          "name": "stderr",
          "text": [
            "\n"
          ]
        },
        {
          "output_type": "stream",
          "name": "stdout",
          "text": [
            "\n",
            "      Epoch    GPU_mem       loss  Instances       Size\n"
          ]
        },
        {
          "output_type": "stream",
          "name": "stderr",
          "text": [
            "      35/50     0.388G    0.01634         16        160: 100%|██████████| 357/357 [01:29<00:00,  3.98it/s]\n",
            "               classes   top1_acc   top5_acc: 100%|██████████| 41/41 [00:16<00:00,  2.45it/s]"
          ]
        },
        {
          "output_type": "stream",
          "name": "stdout",
          "text": [
            "                   all       0.98          1\n"
          ]
        },
        {
          "output_type": "stream",
          "name": "stderr",
          "text": [
            "\n"
          ]
        },
        {
          "output_type": "stream",
          "name": "stdout",
          "text": [
            "\n",
            "      Epoch    GPU_mem       loss  Instances       Size\n"
          ]
        },
        {
          "output_type": "stream",
          "name": "stderr",
          "text": [
            "      36/50     0.388G   0.009828         16        160: 100%|██████████| 357/357 [01:28<00:00,  4.02it/s]\n",
            "               classes   top1_acc   top5_acc: 100%|██████████| 41/41 [00:17<00:00,  2.39it/s]"
          ]
        },
        {
          "output_type": "stream",
          "name": "stdout",
          "text": [
            "                   all      0.982          1\n"
          ]
        },
        {
          "output_type": "stream",
          "name": "stderr",
          "text": [
            "\n"
          ]
        },
        {
          "output_type": "stream",
          "name": "stdout",
          "text": [
            "\n",
            "      Epoch    GPU_mem       loss  Instances       Size\n"
          ]
        },
        {
          "output_type": "stream",
          "name": "stderr",
          "text": [
            "      37/50     0.388G   0.008819         16        160: 100%|██████████| 357/357 [01:28<00:00,  4.04it/s]\n",
            "               classes   top1_acc   top5_acc: 100%|██████████| 41/41 [00:17<00:00,  2.38it/s]"
          ]
        },
        {
          "output_type": "stream",
          "name": "stdout",
          "text": [
            "                   all      0.984          1\n"
          ]
        },
        {
          "output_type": "stream",
          "name": "stderr",
          "text": [
            "\n"
          ]
        },
        {
          "output_type": "stream",
          "name": "stdout",
          "text": [
            "\n",
            "      Epoch    GPU_mem       loss  Instances       Size\n"
          ]
        },
        {
          "output_type": "stream",
          "name": "stderr",
          "text": [
            "      38/50     0.388G    0.01076         16        160: 100%|██████████| 357/357 [01:30<00:00,  3.95it/s]\n",
            "               classes   top1_acc   top5_acc: 100%|██████████| 41/41 [00:17<00:00,  2.39it/s]"
          ]
        },
        {
          "output_type": "stream",
          "name": "stdout",
          "text": [
            "                   all       0.98          1\n"
          ]
        },
        {
          "output_type": "stream",
          "name": "stderr",
          "text": [
            "\n"
          ]
        },
        {
          "output_type": "stream",
          "name": "stdout",
          "text": [
            "\n",
            "      Epoch    GPU_mem       loss  Instances       Size\n"
          ]
        },
        {
          "output_type": "stream",
          "name": "stderr",
          "text": [
            "      39/50     0.388G    0.01086         16        160: 100%|██████████| 357/357 [01:28<00:00,  4.03it/s]\n",
            "               classes   top1_acc   top5_acc: 100%|██████████| 41/41 [00:16<00:00,  2.46it/s]"
          ]
        },
        {
          "output_type": "stream",
          "name": "stdout",
          "text": [
            "                   all       0.98          1\n"
          ]
        },
        {
          "output_type": "stream",
          "name": "stderr",
          "text": [
            "\n"
          ]
        },
        {
          "output_type": "stream",
          "name": "stdout",
          "text": [
            "\n",
            "      Epoch    GPU_mem       loss  Instances       Size\n"
          ]
        },
        {
          "output_type": "stream",
          "name": "stderr",
          "text": [
            "      40/50     0.388G    0.01237         16        160: 100%|██████████| 357/357 [01:28<00:00,  4.05it/s]\n",
            "               classes   top1_acc   top5_acc: 100%|██████████| 41/41 [00:17<00:00,  2.40it/s]"
          ]
        },
        {
          "output_type": "stream",
          "name": "stdout",
          "text": [
            "                   all      0.976          1\n"
          ]
        },
        {
          "output_type": "stream",
          "name": "stderr",
          "text": [
            "\n"
          ]
        },
        {
          "output_type": "stream",
          "name": "stdout",
          "text": [
            "\n",
            "      Epoch    GPU_mem       loss  Instances       Size\n"
          ]
        },
        {
          "output_type": "stream",
          "name": "stderr",
          "text": [
            "      41/50     0.388G   0.008765         16        160: 100%|██████████| 357/357 [01:28<00:00,  4.01it/s]\n",
            "               classes   top1_acc   top5_acc: 100%|██████████| 41/41 [00:17<00:00,  2.39it/s]"
          ]
        },
        {
          "output_type": "stream",
          "name": "stdout",
          "text": [
            "                   all      0.982          1\n"
          ]
        },
        {
          "output_type": "stream",
          "name": "stderr",
          "text": [
            "\n"
          ]
        },
        {
          "output_type": "stream",
          "name": "stdout",
          "text": [
            "\n",
            "      Epoch    GPU_mem       loss  Instances       Size\n"
          ]
        },
        {
          "output_type": "stream",
          "name": "stderr",
          "text": [
            "      42/50     0.388G   0.006971         16        160: 100%|██████████| 357/357 [01:30<00:00,  3.96it/s]\n",
            "               classes   top1_acc   top5_acc: 100%|██████████| 41/41 [00:17<00:00,  2.41it/s]"
          ]
        },
        {
          "output_type": "stream",
          "name": "stdout",
          "text": [
            "                   all      0.985          1\n"
          ]
        },
        {
          "output_type": "stream",
          "name": "stderr",
          "text": [
            "\n"
          ]
        },
        {
          "output_type": "stream",
          "name": "stdout",
          "text": [
            "\n",
            "      Epoch    GPU_mem       loss  Instances       Size\n"
          ]
        },
        {
          "output_type": "stream",
          "name": "stderr",
          "text": [
            "      43/50     0.388G   0.006372         16        160: 100%|██████████| 357/357 [01:30<00:00,  3.96it/s]\n",
            "               classes   top1_acc   top5_acc: 100%|██████████| 41/41 [00:17<00:00,  2.37it/s]"
          ]
        },
        {
          "output_type": "stream",
          "name": "stdout",
          "text": [
            "                   all      0.982          1\n"
          ]
        },
        {
          "output_type": "stream",
          "name": "stderr",
          "text": [
            "\n"
          ]
        },
        {
          "output_type": "stream",
          "name": "stdout",
          "text": [
            "\n",
            "      Epoch    GPU_mem       loss  Instances       Size\n"
          ]
        },
        {
          "output_type": "stream",
          "name": "stderr",
          "text": [
            "      44/50     0.388G   0.007196         16        160: 100%|██████████| 357/357 [01:30<00:00,  3.96it/s]\n",
            "               classes   top1_acc   top5_acc: 100%|██████████| 41/41 [00:16<00:00,  2.48it/s]"
          ]
        },
        {
          "output_type": "stream",
          "name": "stdout",
          "text": [
            "                   all      0.983          1\n"
          ]
        },
        {
          "output_type": "stream",
          "name": "stderr",
          "text": [
            "\n"
          ]
        },
        {
          "output_type": "stream",
          "name": "stdout",
          "text": [
            "\n",
            "      Epoch    GPU_mem       loss  Instances       Size\n"
          ]
        },
        {
          "output_type": "stream",
          "name": "stderr",
          "text": [
            "      45/50     0.388G   0.005918         16        160: 100%|██████████| 357/357 [01:30<00:00,  3.97it/s]\n",
            "               classes   top1_acc   top5_acc: 100%|██████████| 41/41 [00:16<00:00,  2.45it/s]"
          ]
        },
        {
          "output_type": "stream",
          "name": "stdout",
          "text": [
            "                   all      0.985          1\n"
          ]
        },
        {
          "output_type": "stream",
          "name": "stderr",
          "text": [
            "\n"
          ]
        },
        {
          "output_type": "stream",
          "name": "stdout",
          "text": [
            "\n",
            "      Epoch    GPU_mem       loss  Instances       Size\n"
          ]
        },
        {
          "output_type": "stream",
          "name": "stderr",
          "text": [
            "      46/50     0.388G   0.005586         16        160: 100%|██████████| 357/357 [01:26<00:00,  4.12it/s]\n",
            "               classes   top1_acc   top5_acc: 100%|██████████| 41/41 [00:16<00:00,  2.42it/s]"
          ]
        },
        {
          "output_type": "stream",
          "name": "stdout",
          "text": [
            "                   all      0.985          1\n"
          ]
        },
        {
          "output_type": "stream",
          "name": "stderr",
          "text": [
            "\n"
          ]
        },
        {
          "output_type": "stream",
          "name": "stdout",
          "text": [
            "\n",
            "      Epoch    GPU_mem       loss  Instances       Size\n"
          ]
        },
        {
          "output_type": "stream",
          "name": "stderr",
          "text": [
            "      47/50     0.388G   0.009794         16        160: 100%|██████████| 357/357 [01:27<00:00,  4.09it/s]\n",
            "               classes   top1_acc   top5_acc: 100%|██████████| 41/41 [00:17<00:00,  2.39it/s]"
          ]
        },
        {
          "output_type": "stream",
          "name": "stdout",
          "text": [
            "                   all      0.985          1\n"
          ]
        },
        {
          "output_type": "stream",
          "name": "stderr",
          "text": [
            "\n"
          ]
        },
        {
          "output_type": "stream",
          "name": "stdout",
          "text": [
            "\n",
            "      Epoch    GPU_mem       loss  Instances       Size\n"
          ]
        },
        {
          "output_type": "stream",
          "name": "stderr",
          "text": [
            "      48/50     0.388G   0.006092         16        160: 100%|██████████| 357/357 [01:28<00:00,  4.05it/s]\n",
            "               classes   top1_acc   top5_acc: 100%|██████████| 41/41 [00:16<00:00,  2.45it/s]"
          ]
        },
        {
          "output_type": "stream",
          "name": "stdout",
          "text": [
            "                   all      0.984          1\n"
          ]
        },
        {
          "output_type": "stream",
          "name": "stderr",
          "text": [
            "\n"
          ]
        },
        {
          "output_type": "stream",
          "name": "stdout",
          "text": [
            "\n",
            "      Epoch    GPU_mem       loss  Instances       Size\n"
          ]
        },
        {
          "output_type": "stream",
          "name": "stderr",
          "text": [
            "      49/50     0.388G   0.005381         16        160: 100%|██████████| 357/357 [01:28<00:00,  4.03it/s]\n",
            "               classes   top1_acc   top5_acc: 100%|██████████| 41/41 [00:16<00:00,  2.46it/s]"
          ]
        },
        {
          "output_type": "stream",
          "name": "stdout",
          "text": [
            "                   all      0.982          1\n"
          ]
        },
        {
          "output_type": "stream",
          "name": "stderr",
          "text": [
            "\n"
          ]
        },
        {
          "output_type": "stream",
          "name": "stdout",
          "text": [
            "\n",
            "      Epoch    GPU_mem       loss  Instances       Size\n"
          ]
        },
        {
          "output_type": "stream",
          "name": "stderr",
          "text": [
            "      50/50     0.388G   0.005338         16        160: 100%|██████████| 357/357 [01:27<00:00,  4.06it/s]\n",
            "               classes   top1_acc   top5_acc: 100%|██████████| 41/41 [00:17<00:00,  2.41it/s]"
          ]
        },
        {
          "output_type": "stream",
          "name": "stdout",
          "text": [
            "                   all      0.984          1\n"
          ]
        },
        {
          "output_type": "stream",
          "name": "stderr",
          "text": [
            "\n"
          ]
        },
        {
          "output_type": "stream",
          "name": "stdout",
          "text": [
            "\n",
            "50 epochs completed in 1.480 hours.\n",
            "Optimizer stripped from runs/classify/train/weights/last.pt, 3.0MB\n",
            "Optimizer stripped from runs/classify/train/weights/best.pt, 3.0MB\n",
            "\n",
            "Validating runs/classify/train/weights/best.pt...\n",
            "Ultralytics YOLOv8.0.222 🚀 Python-3.10.12 torch-2.1.0+cu118 CUDA:0 (Tesla T4, 15102MiB)\n",
            "YOLOv8n-cls summary (fused): 73 layers, 1440004 parameters, 0 gradients, 3.3 GFLOPs\n",
            "WARNING ⚠️ Dataset 'split=val' not found, using 'split=test' instead.\n",
            "\u001b[34m\u001b[1mtrain:\u001b[0m /content/drive/MyDrive/DL_project/archive_CGrestored2/train... found 5712 images in 4 classes ✅ \n",
            "\u001b[34m\u001b[1mval:\u001b[0m None...\n",
            "\u001b[34m\u001b[1mtest:\u001b[0m /content/drive/MyDrive/DL_project/archive_CGrestored2/test... found 1311 images in 4 classes ✅ \n"
          ]
        },
        {
          "output_type": "stream",
          "name": "stderr",
          "text": [
            "               classes   top1_acc   top5_acc: 100%|██████████| 41/41 [00:17<00:00,  2.38it/s]\n"
          ]
        },
        {
          "output_type": "stream",
          "name": "stdout",
          "text": [
            "                   all      0.985          1\n",
            "Speed: 0.0ms preprocess, 0.3ms inference, 0.0ms loss, 0.0ms postprocess per image\n",
            "Results saved to \u001b[1mruns/classify/train\u001b[0m\n",
            "Results saved to \u001b[1mruns/classify/train\u001b[0m\n"
          ]
        }
      ]
    },
    {
      "cell_type": "code",
      "source": [
        "print(results)"
      ],
      "metadata": {
        "colab": {
          "base_uri": "https://localhost:8080/"
        },
        "id": "XimbwkF3XFGO",
        "outputId": "b5435ac1-922d-4e9c-e947-a9f0c25e598f"
      },
      "execution_count": 18,
      "outputs": [
        {
          "output_type": "stream",
          "name": "stdout",
          "text": [
            "ultralytics.utils.metrics.ClassifyMetrics object with attributes:\n",
            "\n",
            "confusion_matrix: <ultralytics.utils.metrics.ConfusionMatrix object at 0x7a84d21dd900>\n",
            "curves: []\n",
            "curves_results: []\n",
            "fitness: 0.9923722445964813\n",
            "keys: ['metrics/accuracy_top1', 'metrics/accuracy_top5']\n",
            "results_dict: {'metrics/accuracy_top1': 0.9847444891929626, 'metrics/accuracy_top5': 1.0, 'fitness': 0.9923722445964813}\n",
            "save_dir: PosixPath('runs/classify/train')\n",
            "speed: {'preprocess': 0.045168772623977255, 'inference': 0.3052459792450673, 'loss': 0.0006292359143336432, 'postprocess': 0.0005210291602791583}\n",
            "task: 'classify'\n",
            "top1: 0.9847444891929626\n",
            "top5: 1.0\n"
          ]
        }
      ]
    },
    {
      "cell_type": "code",
      "source": [
        "results.confusion_matrix"
      ],
      "metadata": {
        "colab": {
          "base_uri": "https://localhost:8080/"
        },
        "id": "BrSKWEKVXHc6",
        "outputId": "aae3d7f2-4760-4ce7-97df-22b57c8ea0b9"
      },
      "execution_count": 19,
      "outputs": [
        {
          "output_type": "execute_result",
          "data": {
            "text/plain": [
              "<ultralytics.utils.metrics.ConfusionMatrix at 0x7a84d21dd900>"
            ]
          },
          "metadata": {},
          "execution_count": 19
        }
      ]
    },
    {
      "cell_type": "code",
      "source": [
        "#!pip install -U albumentations"
      ],
      "metadata": {
        "id": "aYvX6IWqmqn9"
      },
      "execution_count": 20,
      "outputs": []
    }
  ]
}